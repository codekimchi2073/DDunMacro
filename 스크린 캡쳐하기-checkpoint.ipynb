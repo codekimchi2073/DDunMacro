{
 "cells": [
  {
   "cell_type": "code",
   "execution_count": null,
   "metadata": {},
   "outputs": [],
   "source": [
    "# 알림창 띄우기"
   ]
  },
  {
   "cell_type": "code",
   "execution_count": null,
   "metadata": {},
   "outputs": [],
   "source": [
    "from tkinter import*\n",
    "from tkinter import messagebox\n",
    "\n",
    "import keyboard             # 키보드 입력 감지\n",
    "\n",
    "import pyautogui as auto  # 마우스 포인터 이동\n",
    "import time\n",
    "\n",
    "from pynput.keyboard import Listener\n",
    "\n",
    "\n",
    "\n",
    "def messagebox():\n",
    "    root = Tk()\n",
    "    root.title(\"왼쪽 상단 모서리 설정\")\n",
    "    root.geometry(\"170x50\")\n",
    "    root.resizable(0,0)\n",
    "    with Listener() as listener:\n",
    "        listener.join()\n",
    "    \n",
    "    \n",
    "        def on_press(key):\n",
    "            print(\"Key pressed: {0}\".format(key))\n",
    "\n",
    "        def on_release(key):\n",
    "            print(\"Key released: {0}\".format(key))\n",
    "    \n",
    "    \n",
    "    \n",
    "        def enter_it():\n",
    "        \n",
    "        #messagebox.showinfo()\n",
    "       # lbl2.configure(text=\"엔터치라고\" +yn)\n",
    "            if keyboard.is_pressed('v'):\n",
    "                print(\"v\")\n",
    "                auto.move(0, 10)   # 마우스 포인터를 아래로 이동\n",
    "                time.sleep(0.1)\n",
    "            else:\n",
    "                return('다시시도')\n",
    "        on_press()\n",
    "        on_release()\n",
    "        enter_it()\n",
    "    \n",
    "    \n",
    "    ##버튼 형성\n",
    "    #btn = Button(root, text = \"ok\", command= your_name, width=3, height=1)\n",
    "    #btn.grid(row=1, column=1)\n",
    "    \n",
    "    \n",
    "    # 메시지박스에 표시되는 멘트\n",
    "    lbl2 = Label(root, text = \"왼쪽 상단에 마우스를\")\n",
    "    lbl2.grid(row=2, column=1)\n",
    "    lbl3 = Label(root, text = \"옮긴 후 엔터치세요\")\n",
    "    lbl3.grid(row=3, column=1)\n",
    "         \n",
    "        \n",
    "    \n",
    "    \n",
    "    \n",
    "    root.mainloop()\n",
    "    \n",
    "    \n",
    "    return()\n",
    "\n",
    "messagebox()"
   ]
  },
  {
   "cell_type": "code",
   "execution_count": 3,
   "metadata": {},
   "outputs": [],
   "source": [
    "from tkinter import*\n",
    "from tkinter import messagebox\n",
    "\n",
    "import keyboard             # 키보드 입력 감지\n",
    "\n",
    "import pyautogui as auto  # 마우스 포인터 이동\n",
    "import time\n",
    "\n",
    "from pynput.keyboard import Listener"
   ]
  },
  {
   "cell_type": "code",
   "execution_count": 4,
   "metadata": {},
   "outputs": [
    {
     "data": {
      "text/plain": [
       "'좌상'"
      ]
     },
     "execution_count": 4,
     "metadata": {},
     "output_type": "execute_result"
    }
   ],
   "source": [
    "###창띄우기\n",
    "#pyautogui.alert(text='hello test1', title= 'text')\n",
    "auto.confirm(text='hello test1', title = 'text', buttons=['좌상','우하','완성'])\n",
    "    \n",
    "#print(pyautogui.confirm(text='hello test1', title = 'text', buttons=['좌상','우하','완성']))    \n",
    "\n",
    "\n",
    "#스크린샷 찍기\n",
    "auto.screenshot('test1.png', region(0,0,200,200))    "
   ]
  },
  {
   "cell_type": "code",
   "execution_count": null,
   "metadata": {},
   "outputs": [],
   "source": []
  },
  {
   "cell_type": "code",
   "execution_count": null,
   "metadata": {},
   "outputs": [],
   "source": []
  },
  {
   "cell_type": "code",
   "execution_count": null,
   "metadata": {},
   "outputs": [],
   "source": []
  },
  {
   "cell_type": "code",
   "execution_count": null,
   "metadata": {},
   "outputs": [],
   "source": []
  },
  {
   "cell_type": "code",
   "execution_count": 64,
   "metadata": {},
   "outputs": [],
   "source": [
    "\n",
    "\n",
    "# 좌상 우하 좌표 따기@@@@@@@@@@@@@@@@@@@@@@@@@@@@@@@@@@@@@@@@@@@@@@@@@@@@@@@@\n"
   ]
  },
  {
   "cell_type": "code",
   "execution_count": 20,
   "metadata": {},
   "outputs": [
    {
     "name": "stdout",
     "output_type": "stream",
     "text": [
      "Current Mouse Position: Point(x=1919, y=1079)\n"
     ]
    }
   ],
   "source": [
    "import pyautogui\n",
    "\n",
    "print(\"Current Mouse Position:\", pyautogui.position())"
   ]
  },
  {
   "cell_type": "code",
   "execution_count": 1,
   "metadata": {},
   "outputs": [
    {
     "ename": "SyntaxError",
     "evalue": "invalid syntax (<ipython-input-1-395208ea6401>, line 6)",
     "output_type": "error",
     "traceback": [
      "\u001b[1;36m  File \u001b[1;32m\"<ipython-input-1-395208ea6401>\"\u001b[1;36m, line \u001b[1;32m6\u001b[0m\n\u001b[1;33m    elif keyboard.is_pressed('s'):\u001b[0m\n\u001b[1;37m       ^\u001b[0m\n\u001b[1;31mSyntaxError\u001b[0m\u001b[1;31m:\u001b[0m invalid syntax\n"
     ]
    }
   ],
   "source": [
    "\n",
    "\n",
    "     \n",
    "\n",
    "def get_coordinate_listenenter():\n",
    "    \n",
    "\n",
    "right_down_coord = "
   ]
  },
  {
   "cell_type": "code",
   "execution_count": null,
   "metadata": {},
   "outputs": [],
   "source": []
  }
 ],
 "metadata": {
  "kernelspec": {
   "display_name": "Python 3",
   "language": "python",
   "name": "python3"
  },
  "language_info": {
   "codemirror_mode": {
    "name": "ipython",
    "version": 3
   },
   "file_extension": ".py",
   "mimetype": "text/x-python",
   "name": "python",
   "nbconvert_exporter": "python",
   "pygments_lexer": "ipython3",
   "version": "3.7.6"
  }
 },
 "nbformat": 4,
 "nbformat_minor": 2
}
