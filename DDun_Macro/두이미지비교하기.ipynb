{
 "cells": [
  {
   "cell_type": "code",
   "execution_count": 96,
   "metadata": {
    "scrolled": true
   },
   "outputs": [
    {
     "name": "stdout",
     "output_type": "stream",
     "text": [
      "CORREL    \timg1:1.0000000\timg2:0.9963918\timg3:0.9821368\timg4:0.2713709\t\n",
      "CHISQR    \timg1:0.0000000\timg2:5.4012823\timg3:24.6755282\timg4:206720.5815448\t\n",
      "INTERSECT \timg1:1.0000000\timg2:0.5723103\timg3:0.4357644\timg4:0.8506908\t\n",
      "BHATTACHARYYA\timg1:0.0000000\timg2:0.6153707\timg3:0.7208439\timg4:0.7792699\t\n"
     ]
    },
    {
     "data": {
      "image/png": "[encoded data removed]",
      "text/plain": [
       "<Figure size 432x288 with 4 Axes>"
      ]
     },
     "metadata": {
      "needs_background": "light"
     },
     "output_type": "display_data"
    }
   ],
   "source": [
    "# 히스토그램 비교 (histo_compare.py)\n",
    "\n",
    "import cv2, numpy as np\n",
    "import matplotlib.pylab as plt\n",
    "\n",
    "img1 = cv2.imread('macro1.png')\n",
    "img2 = cv2.imread('macro3.png')\n",
    "img3 = cv2.imread('1.png')\n",
    "img4 = cv2.imread('4.png')\n",
    "\n",
    "cv2.imshow('query', img1)\n",
    "cv2.waitKey()\n",
    "imgs = [img1, img2, img3, img4]\n",
    "hists = []\n",
    "for i, img in enumerate(imgs) :\n",
    "    plt.subplot(1,len(imgs),i+1)\n",
    "    plt.title('img%d'% (i+1))\n",
    "    plt.axis('off') \n",
    "    plt.imshow(img[:,:,::-1])\n",
    "    #---① 각 이미지를 HSV로 변환\n",
    "    hsv = cv2.cvtColor(img, cv2.COLOR_BGR2HSV)\n",
    "    #---② H,S 채널에 대한 히스토그램 계산\n",
    "    hist = cv2.calcHist([hsv], [0,1], None, [180,256], [0,180,0, 256])\n",
    "    #---③ 0~1로 정규화\n",
    "    cv2.normalize(hist, hist, 0, 1, cv2.NORM_MINMAX)\n",
    "    hists.append(hist)\n",
    "\n",
    "\n",
    "query = hists[0]\n",
    "methods = {'CORREL' :cv2.HISTCMP_CORREL, 'CHISQR':cv2.HISTCMP_CHISQR, \n",
    "           'INTERSECT':cv2.HISTCMP_INTERSECT,\n",
    "           'BHATTACHARYYA':cv2.HISTCMP_BHATTACHARYYA}\n",
    "for j, (name, flag) in enumerate(methods.items()):\n",
    "    print('%-10s'%name, end='\\t')\n",
    "    for i, (hist, img) in enumerate(zip(hists, imgs)):\n",
    "        #---④ 각 메서드에 따라 img1과 각 이미지의 히스토그램 비교\n",
    "        ret = cv2.compareHist(query, hist, flag)\n",
    "        if flag == cv2.HISTCMP_INTERSECT: #교차 분석인 경우 \n",
    "            ret = ret/np.sum(query)        #비교대상으로 나누어 1로 정규화\n",
    "        print(\"img%d:%7.7f\"% (i+1 , ret), end='\\t')\n",
    "    print()\n",
    "plt.show()\n",
    "\n"
   ]
  },
  {
   "cell_type": "code",
   "execution_count": 3,
   "metadata": {},
   "outputs": [
    {
     "data": {
      "text/plain": [
       "0.7792699379714554"
      ]
     },
     "execution_count": 3,
     "metadata": {},
     "output_type": "execute_result"
    }
   ],
   "source": [
    "cv2.compareHist(query, hist, flag)"
   ]
  },
  {
   "cell_type": "code",
   "execution_count": 95,
   "metadata": {},
   "outputs": [
    {
     "name": "stdout",
     "output_type": "stream",
     "text": [
      "CORREL    \timg1:1.0000000\timg2:0.9963918\timg3:0.9821368\timg4:0.2713709\t\n",
      "CHISQR    \timg1:0.0000000\timg2:5.4012823\timg3:24.6755282\timg4:206720.5815448\t\n",
      "INTERSECT \timg1:2.6149711\timg2:1.4965748\timg3:1.1395114\timg4:2.2245320\t\n",
      "BHATTACHARYYA\timg1:0.0000000\timg2:0.6153707\timg3:0.7208439\timg4:0.7792699\t\n"
     ]
    }
   ],
   "source": [
    "for j, (name, flag) in enumerate(methods.items()):\n",
    "    print('%-10s'%name, end='\\t')\n",
    "    for i, (hist, img) in enumerate(zip(hists, imgs)):\n",
    "        #---④ 각 메서드에 따라 img1과 각 이미지의 히스토그램 비교\n",
    "        ret = cv2.compareHist(query, hist, flag)\n",
    "\n",
    "        print(\"img%d:%7.7f\"% (i+1 , ret), end='\\t')\n",
    "    print()"
   ]
  },
  {
   "cell_type": "code",
   "execution_count": 98,
   "metadata": {},
   "outputs": [
    {
     "data": {
      "text/plain": [
       "'0.9963918'"
      ]
     },
     "execution_count": 98,
     "metadata": {},
     "output_type": "execute_result"
    }
   ],
   "source": [
    "#위에서 실행할 부분만 함수화하기 \n",
    "\n",
    "def result():\n",
    "    \n",
    "    for j, (name, flag) in enumerate(methods.items()):\n",
    "        if j<1:\n",
    "            \n",
    "            #print('%-10s'%name, end='\\t')\n",
    "            for i, (hist, img) in enumerate(zip(hists, imgs)):\n",
    "                if 0<i<=1:\n",
    "                    #---④ 각 메서드에 따라 img1과 각 이미지의 히스토그램 비교\n",
    "                    ret = cv2.compareHist(query, hist, flag)\n",
    "                    #if flag == cv2.HISTCMP_INTERSECT: #교차 분석인 경우 \n",
    "                    #    ret = ret/np.sum(query)        #비교대상으로 나누어 1로 정규화\n",
    "                    \n",
    "                    return(\"%7.7f\"% (ret))\n",
    "                   \n",
    "        \n",
    "result()  "
   ]
  },
  {
   "cell_type": "code",
   "execution_count": 71,
   "metadata": {
    "scrolled": false
   },
   "outputs": [
    {
     "name": "stdout",
     "output_type": "stream",
     "text": [
      "CORREL    \timg1:   1.00\timg2:   1.00\t"
     ]
    },
    {
     "ename": "TypeError",
     "evalue": "unsupported operand type(s) for +: 'NoneType' and 'tuple'",
     "output_type": "error",
     "traceback": [
      "\u001b[1;31m---------------------------------------------------------------------------\u001b[0m",
      "\u001b[1;31mTypeError\u001b[0m                                 Traceback (most recent call last)",
      "\u001b[1;32m<ipython-input-71-bb3b5b848f93>\u001b[0m in \u001b[0;36m<module>\u001b[1;34m\u001b[0m\n\u001b[0;32m      1\u001b[0m \u001b[0mtuple1\u001b[0m \u001b[1;33m=\u001b[0m \u001b[1;33m(\u001b[0m\u001b[1;36m1\u001b[0m\u001b[1;33m,\u001b[0m\u001b[1;36m2\u001b[0m\u001b[1;33m)\u001b[0m\u001b[1;33m\u001b[0m\u001b[1;33m\u001b[0m\u001b[0m\n\u001b[0;32m      2\u001b[0m \u001b[1;33m\u001b[0m\u001b[0m\n\u001b[1;32m----> 3\u001b[1;33m \u001b[0ma\u001b[0m \u001b[1;33m=\u001b[0m\u001b[0mresult\u001b[0m\u001b[1;33m(\u001b[0m\u001b[1;33m)\u001b[0m\u001b[1;33m+\u001b[0m \u001b[0mtuple1\u001b[0m\u001b[1;33m\u001b[0m\u001b[1;33m\u001b[0m\u001b[0m\n\u001b[0m",
      "\u001b[1;31mTypeError\u001b[0m: unsupported operand type(s) for +: 'NoneType' and 'tuple'"
     ]
    }
   ],
   "source": [
    "tuple1 = (1,2)\n",
    "\n",
    "a =result()+ tuple1"
   ]
  },
  {
   "cell_type": "code",
   "execution_count": 99,
   "metadata": {},
   "outputs": [
    {
     "data": {
      "text/plain": [
       "str"
      ]
     },
     "execution_count": 99,
     "metadata": {},
     "output_type": "execute_result"
    }
   ],
   "source": [
    "type(result())\n"
   ]
  },
  {
   "cell_type": "code",
   "execution_count": 104,
   "metadata": {},
   "outputs": [
    {
     "data": {
      "text/plain": [
       "'0.9963918'"
      ]
     },
     "execution_count": 104,
     "metadata": {},
     "output_type": "execute_result"
    }
   ],
   "source": [
    "a"
   ]
  },
  {
   "cell_type": "code",
   "execution_count": 111,
   "metadata": {},
   "outputs": [],
   "source": [
    "# result함수의 값을 소수점 값으로 바꾸기\n",
    "a\n",
    "b = float(a)"
   ]
  },
  {
   "cell_type": "code",
   "execution_count": 112,
   "metadata": {},
   "outputs": [
    {
     "data": {
      "text/plain": [
       "0.9963918"
      ]
     },
     "execution_count": 112,
     "metadata": {},
     "output_type": "execute_result"
    }
   ],
   "source": [
    "b"
   ]
  },
  {
   "cell_type": "code",
   "execution_count": null,
   "metadata": {},
   "outputs": [],
   "source": []
  }
 ],
 "metadata": {
  "kernelspec": {
   "display_name": "Python 3",
   "language": "python",
   "name": "python3"
  },
  "language_info": {
   "codemirror_mode": {
    "name": "ipython",
    "version": 3
   },
   "file_extension": ".py",
   "mimetype": "text/x-python",
   "name": "python",
   "nbconvert_exporter": "python",
   "pygments_lexer": "ipython3",
   "version": "3.7.6"
  }
 },
 "nbformat": 4,
 "nbformat_minor": 2
}
